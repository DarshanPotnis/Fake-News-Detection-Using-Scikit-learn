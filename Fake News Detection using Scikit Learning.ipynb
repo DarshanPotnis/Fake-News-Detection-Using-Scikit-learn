{
 "cells": [
  {
   "cell_type": "code",
   "execution_count": 1,
   "metadata": {},
   "outputs": [
    {
     "name": "stdout",
     "output_type": "stream",
     "text": [
      "Requirement already satisfied: msgpack in d:\\darshan\\anaconda\\lib\\site-packages (1.0.2)\n"
     ]
    }
   ],
   "source": [
    "! pip install msgpack --user"
   ]
  },
  {
   "cell_type": "code",
   "execution_count": 2,
   "metadata": {},
   "outputs": [
    {
     "name": "stdout",
     "output_type": "stream",
     "text": [
      "Collecting newsapi-python\n",
      "  Downloading newsapi_python-0.2.7-py2.py3-none-any.whl (7.9 kB)\n",
      "Requirement already satisfied: requests<3.0.0 in d:\\darshan\\anaconda\\lib\\site-packages (from newsapi-python) (2.27.1)\n",
      "Requirement already satisfied: charset-normalizer~=2.0.0 in d:\\darshan\\anaconda\\lib\\site-packages (from requests<3.0.0->newsapi-python) (2.0.4)\n",
      "Requirement already satisfied: idna<4,>=2.5 in d:\\darshan\\anaconda\\lib\\site-packages (from requests<3.0.0->newsapi-python) (3.3)\n",
      "Requirement already satisfied: urllib3<1.27,>=1.21.1 in d:\\darshan\\anaconda\\lib\\site-packages (from requests<3.0.0->newsapi-python) (1.26.15)\n",
      "Requirement already satisfied: certifi>=2017.4.17 in d:\\darshan\\anaconda\\lib\\site-packages (from requests<3.0.0->newsapi-python) (2021.10.8)\n",
      "Installing collected packages: newsapi-python\n",
      "Successfully installed newsapi-python-0.2.7\n"
     ]
    }
   ],
   "source": [
    "#Import Modules\n",
    "! pip install newsapi-python "
   ]
  },
  {
   "cell_type": "code",
   "execution_count": 3,
   "metadata": {},
   "outputs": [],
   "source": [
    "from newsapi import NewsApiClient\n",
    "import random"
   ]
  },
  {
   "cell_type": "code",
   "execution_count": 4,
   "metadata": {},
   "outputs": [],
   "source": [
    "from datetime import datetime, timedelta"
   ]
  },
  {
   "cell_type": "code",
   "execution_count": 5,
   "metadata": {},
   "outputs": [
    {
     "data": {
      "text/plain": [
       "datetime.datetime(2023, 3, 2, 14, 3, 58, 397180)"
      ]
     },
     "execution_count": 5,
     "metadata": {},
     "output_type": "execute_result"
    }
   ],
   "source": [
    "prev_date = datetime.today() - timedelta(days=30)\n",
    "prev_date"
   ]
  },
  {
   "cell_type": "code",
   "execution_count": 6,
   "metadata": {},
   "outputs": [
    {
     "data": {
      "text/plain": [
       "datetime.datetime(2023, 4, 1, 14, 4, 8, 160973)"
      ]
     },
     "execution_count": 6,
     "metadata": {},
     "output_type": "execute_result"
    }
   ],
   "source": [
    "next_date = datetime.today() - timedelta(days=0)\n",
    "next_date"
   ]
  },
  {
   "cell_type": "code",
   "execution_count": 20,
   "metadata": {},
   "outputs": [
    {
     "data": {
      "text/plain": [
       "'2023-03-04'"
      ]
     },
     "execution_count": 20,
     "metadata": {},
     "output_type": "execute_result"
    }
   ],
   "source": [
    "p_date = str(prev_date.year)+'-'+'0'+str(prev_date.month)+'-'+'0'+str(prev_date.day)\n",
    "p_date"
   ]
  },
  {
   "cell_type": "code",
   "execution_count": 21,
   "metadata": {},
   "outputs": [
    {
     "data": {
      "text/plain": [
       "'2023-04-01'"
      ]
     },
     "execution_count": 21,
     "metadata": {},
     "output_type": "execute_result"
    }
   ],
   "source": [
    "c_date = str(next_date.year)+'-'+'0'+str(next_date.month)+'-'+'0'+str(next_date.day)\n",
    "c_date"
   ]
  },
  {
   "cell_type": "code",
   "execution_count": 22,
   "metadata": {},
   "outputs": [],
   "source": [
    "# Task - 2: \n",
    "# API - 4f39ff5110f94aa193589888293ea341\n",
    "#from datetime import datetime, timedelta\n",
    "prev_date = datetime.today() - timedelta(days=28)\n",
    "next_date = datetime.today() - timedelta(days=0)\n",
    "p_date = str(prev_date.year)+'-'+'0'+str(prev_date.month)+'-'+'0'+str(prev_date.day)\n",
    "c_date = str(next_date.year)+'-'+'0'+str(next_date.month)+'-'+'0'+str(next_date.day)\n",
    "\n",
    "# Task 2: Create a Get News Method\n",
    "newsapi = NewsApiClient(api_key='4f39ff5110f94aa193589888293ea341')\n",
    "def getNews(sourceId):\n",
    "    newses = newsapi.get_everything(sources=sourceId,\n",
    "                                    domains='ndtv.com, techcrunch.com',\n",
    "                                    from_param=p_date,\n",
    "                                    to=c_date,\n",
    "                                    language='en',\n",
    "                                    sort_by='relevancy',\n",
    "                                    page=2)\n",
    "    newsData = []\n",
    "    for news in newses['articles']:\n",
    "        list = [random.randint(0, 1000), news['title'],news['content'], 'REAL']\n",
    "        newsData.append(list)\n",
    "    return newsData"
   ]
  },
  {
   "cell_type": "code",
   "execution_count": 23,
   "metadata": {},
   "outputs": [
    {
     "name": "stdout",
     "output_type": "stream",
     "text": [
      "News Sources:  ['abc-news', 'abc-news-au', 'aftenposten', 'al-jazeera-english', 'ansa', 'argaam', 'ars-technica', 'ary-news', 'associated-press', 'australian-financial-review']\n"
     ]
    }
   ],
   "source": [
    "# Task - 3: Get News Sources\n",
    "sources = newsapi.get_sources()\n",
    "sourceList = []\n",
    "for source in sources['sources']:\n",
    "    sourceList.append(source['id'])\n",
    "del sourceList[10:len(sourceList)]\n",
    "print('News Sources: ', sourceList)"
   ]
  },
  {
   "cell_type": "code",
   "execution_count": 24,
   "metadata": {},
   "outputs": [
    {
     "name": "stdout",
     "output_type": "stream",
     "text": [
      "Total News:  1000\n"
     ]
    }
   ],
   "source": [
    "# Task 4: Get News using Multiple Sources\n",
    "dataList = []\n",
    "for sourceId in sourceList:\n",
    "    newses = getNews(sourceId)\n",
    "    dataList = dataList + newses\n",
    "\n",
    "print('Total News: ', len(dataList))"
   ]
  },
  {
   "cell_type": "code",
   "execution_count": 25,
   "metadata": {},
   "outputs": [
    {
     "name": "stdout",
     "output_type": "stream",
     "text": [
      "                                                    title  \\\n",
      "0  929  United Airlines flight makes emergency landing...   \n",
      "1  660  FDA approves over-the-counter Narcan to reduce...   \n",
      "2  932  Evacuation order issued near Minnesota train d...   \n",
      "3  457  13 states on alert for strong winds, heavy sno...   \n",
      "4    3  Willis Reed, leader on Knicks' 2 title teams, ...   \n",
      "\n",
      "                                                text label  \n",
      "0  HOUSTON -- A United Airlines flight bound from...  REAL  \n",
      "1  The U.S. Food and Drug Administration approved...  REAL  \n",
      "2  A train derailed near Raymond, Minnesota, on T...  REAL  \n",
      "3  Thirteen states are on alert for strong winds ...  REAL  \n",
      "4  NEW YORK -- Willis Reed, who dramatically emer...  REAL  \n"
     ]
    }
   ],
   "source": [
    "# Task 5: Create a DataFrame of News\n",
    "import pandas as pd\n",
    "df = pd.DataFrame.from_records(dataList)\n",
    "df.columns = ['','title','text','label']\n",
    "print(df.head())"
   ]
  },
  {
   "cell_type": "code",
   "execution_count": 26,
   "metadata": {},
   "outputs": [
    {
     "data": {
      "text/html": [
       "<div>\n",
       "<style scoped>\n",
       "    .dataframe tbody tr th:only-of-type {\n",
       "        vertical-align: middle;\n",
       "    }\n",
       "\n",
       "    .dataframe tbody tr th {\n",
       "        vertical-align: top;\n",
       "    }\n",
       "\n",
       "    .dataframe thead th {\n",
       "        text-align: right;\n",
       "    }\n",
       "</style>\n",
       "<table border=\"1\" class=\"dataframe\">\n",
       "  <thead>\n",
       "    <tr style=\"text-align: right;\">\n",
       "      <th></th>\n",
       "      <th></th>\n",
       "      <th>title</th>\n",
       "      <th>text</th>\n",
       "      <th>label</th>\n",
       "    </tr>\n",
       "  </thead>\n",
       "  <tbody>\n",
       "    <tr>\n",
       "      <th>0</th>\n",
       "      <td>8476</td>\n",
       "      <td>You Can Smell Hillary’s Fear</td>\n",
       "      <td>Daniel Greenfield, a Shillman Journalism Fello...</td>\n",
       "      <td>FAKE</td>\n",
       "    </tr>\n",
       "    <tr>\n",
       "      <th>1</th>\n",
       "      <td>10294</td>\n",
       "      <td>Watch The Exact Moment Paul Ryan Committed Pol...</td>\n",
       "      <td>Google Pinterest Digg Linkedin Reddit Stumbleu...</td>\n",
       "      <td>FAKE</td>\n",
       "    </tr>\n",
       "    <tr>\n",
       "      <th>2</th>\n",
       "      <td>3608</td>\n",
       "      <td>Kerry to go to Paris in gesture of sympathy</td>\n",
       "      <td>U.S. Secretary of State John F. Kerry said Mon...</td>\n",
       "      <td>REAL</td>\n",
       "    </tr>\n",
       "    <tr>\n",
       "      <th>3</th>\n",
       "      <td>10142</td>\n",
       "      <td>Bernie supporters on Twitter erupt in anger ag...</td>\n",
       "      <td>— Kaydee King (@KaydeeKing) November 9, 2016 T...</td>\n",
       "      <td>FAKE</td>\n",
       "    </tr>\n",
       "    <tr>\n",
       "      <th>4</th>\n",
       "      <td>875</td>\n",
       "      <td>The Battle of New York: Why This Primary Matters</td>\n",
       "      <td>It's primary day in New York and front-runners...</td>\n",
       "      <td>REAL</td>\n",
       "    </tr>\n",
       "  </tbody>\n",
       "</table>\n",
       "</div>"
      ],
      "text/plain": [
       "                                                      title  \\\n",
       "0   8476                       You Can Smell Hillary’s Fear   \n",
       "1  10294  Watch The Exact Moment Paul Ryan Committed Pol...   \n",
       "2   3608        Kerry to go to Paris in gesture of sympathy   \n",
       "3  10142  Bernie supporters on Twitter erupt in anger ag...   \n",
       "4    875   The Battle of New York: Why This Primary Matters   \n",
       "\n",
       "                                                text label  \n",
       "0  Daniel Greenfield, a Shillman Journalism Fello...  FAKE  \n",
       "1  Google Pinterest Digg Linkedin Reddit Stumbleu...  FAKE  \n",
       "2  U.S. Secretary of State John F. Kerry said Mon...  REAL  \n",
       "3  — Kaydee King (@KaydeeKing) November 9, 2016 T...  FAKE  \n",
       "4  It's primary day in New York and front-runners...  REAL  "
      ]
     },
     "execution_count": 26,
     "metadata": {},
     "output_type": "execute_result"
    }
   ],
   "source": [
    "# Task 6: Load and Contact the DataFrame\n",
    "trainData = pd.read_csv(\"D:/Darshan/news.csv\")\n",
    "trainData.columns = ['','title','text','label']\n",
    "data = [trainData, df]\n",
    "df = pd.concat(data)\n",
    "df.head()"
   ]
  },
  {
   "cell_type": "code",
   "execution_count": 28,
   "metadata": {},
   "outputs": [],
   "source": [
    "# Task 7: Import Scikit Modules\n",
    "from sklearn.model_selection import train_test_split\n",
    "from sklearn.metrics import accuracy_score\n",
    "from sklearn.feature_extraction.text import CountVectorizer\n",
    "from sklearn.linear_model import PassiveAggressiveClassifier"
   ]
  },
  {
   "cell_type": "code",
   "execution_count": 29,
   "metadata": {},
   "outputs": [],
   "source": [
    "# Task 8: Split the Training and Testing Data\n",
    "training_x, testing_x, training_y, testing_y = train_test_split(df['text'], df.label, test_size=0.3, random_state=100)"
   ]
  },
  {
   "cell_type": "code",
   "execution_count": 30,
   "metadata": {},
   "outputs": [],
   "source": [
    "# Task 9: Feature Selection\n",
    "count_vectorizer = CountVectorizer(stop_words='english', max_df=0.7) \n",
    "feature_train = count_vectorizer.fit_transform(training_x)\n",
    "feature_test = count_vectorizer.transform(testing_x)"
   ]
  },
  {
   "cell_type": "code",
   "execution_count": 32,
   "metadata": {},
   "outputs": [
    {
     "name": "stdout",
     "output_type": "stream",
     "text": [
      "  (0, 27717)\t1\n",
      "  (0, 5451)\t1\n",
      "  (0, 48656)\t1\n",
      "  (0, 48770)\t1\n",
      "  (0, 52436)\t1\n",
      "  (0, 26493)\t1\n",
      "  (0, 30809)\t1\n",
      "  (0, 35202)\t1\n",
      "  (0, 31589)\t1\n",
      "  (0, 52197)\t1\n",
      "  (0, 34819)\t1\n",
      "  (0, 32567)\t1\n",
      "  (0, 29654)\t1\n",
      "  (0, 39528)\t1\n",
      "  (0, 49993)\t1\n",
      "  (0, 608)\t1\n",
      "  (0, 10246)\t1\n",
      "  (1, 7075)\t1\n",
      "  (1, 27754)\t2\n",
      "  (1, 19457)\t1\n",
      "  (1, 3811)\t2\n",
      "  (1, 57342)\t5\n",
      "  (1, 49153)\t14\n",
      "  (1, 14866)\t10\n",
      "  (1, 9954)\t2\n",
      "  :\t:\n",
      "  (5133, 53502)\t1\n",
      "  (5133, 18269)\t1\n",
      "  (5133, 19931)\t1\n",
      "  (5133, 39898)\t2\n",
      "  (5133, 55228)\t1\n",
      "  (5133, 44165)\t1\n",
      "  (5133, 28605)\t1\n",
      "  (5133, 15640)\t1\n",
      "  (5133, 24580)\t1\n",
      "  (5133, 46390)\t1\n",
      "  (5133, 29560)\t1\n",
      "  (5133, 4040)\t2\n",
      "  (5133, 50999)\t1\n",
      "  (5133, 49336)\t1\n",
      "  (5133, 5766)\t2\n",
      "  (5133, 48098)\t1\n",
      "  (5133, 25341)\t2\n",
      "  (5133, 16616)\t1\n",
      "  (5133, 7726)\t1\n",
      "  (5133, 28889)\t1\n",
      "  (5133, 45547)\t1\n",
      "  (5133, 21584)\t1\n",
      "  (5133, 53127)\t1\n",
      "  (5133, 39169)\t3\n",
      "  (5133, 50832)\t4\n"
     ]
    }
   ],
   "source": [
    "print(feature_train)"
   ]
  },
  {
   "cell_type": "code",
   "execution_count": 33,
   "metadata": {},
   "outputs": [
    {
     "name": "stdout",
     "output_type": "stream",
     "text": [
      "  (0, 457)\t1\n",
      "  (0, 638)\t1\n",
      "  (0, 8970)\t1\n",
      "  (0, 9624)\t1\n",
      "  (0, 14058)\t1\n",
      "  (0, 14445)\t1\n",
      "  (0, 21244)\t1\n",
      "  (0, 25293)\t1\n",
      "  (0, 29070)\t1\n",
      "  (0, 30201)\t1\n",
      "  (0, 35864)\t1\n",
      "  (0, 40454)\t1\n",
      "  (0, 43887)\t1\n",
      "  (0, 44078)\t1\n",
      "  (0, 51011)\t1\n",
      "  (0, 55997)\t1\n",
      "  (0, 56407)\t1\n",
      "  (1, 2844)\t1\n",
      "  (1, 15910)\t1\n",
      "  (1, 17191)\t1\n",
      "  (1, 29225)\t1\n",
      "  (1, 30948)\t1\n",
      "  (1, 36418)\t1\n",
      "  (1, 36421)\t1\n",
      "  (1, 41424)\t1\n",
      "  :\t:\n",
      "  (2200, 48545)\t1\n",
      "  (2200, 48585)\t8\n",
      "  (2200, 48586)\t3\n",
      "  (2200, 48590)\t1\n",
      "  (2200, 48592)\t1\n",
      "  (2200, 48955)\t1\n",
      "  (2200, 49153)\t3\n",
      "  (2200, 49643)\t1\n",
      "  (2200, 50036)\t2\n",
      "  (2200, 50062)\t1\n",
      "  (2200, 52403)\t1\n",
      "  (2200, 52624)\t1\n",
      "  (2200, 52789)\t1\n",
      "  (2200, 53180)\t1\n",
      "  (2200, 53488)\t1\n",
      "  (2200, 54061)\t1\n",
      "  (2200, 54112)\t2\n",
      "  (2200, 54139)\t1\n",
      "  (2200, 54948)\t1\n",
      "  (2200, 55140)\t4\n",
      "  (2200, 55949)\t1\n",
      "  (2200, 55954)\t1\n",
      "  (2200, 56530)\t1\n",
      "  (2200, 56930)\t1\n",
      "  (2200, 57346)\t1\n"
     ]
    }
   ],
   "source": [
    "print(feature_test)"
   ]
  },
  {
   "cell_type": "code",
   "execution_count": 35,
   "metadata": {},
   "outputs": [
    {
     "data": {
      "text/plain": [
       "PassiveAggressiveClassifier(max_iter=50)"
      ]
     },
     "execution_count": 35,
     "metadata": {},
     "output_type": "execute_result"
    }
   ],
   "source": [
    "# Task 10: Initialise and Apply the Classifier\n",
    "classifier = PassiveAggressiveClassifier(max_iter=50)\n",
    "classifier.fit(feature_train, training_y)"
   ]
  },
  {
   "cell_type": "code",
   "execution_count": 47,
   "metadata": {},
   "outputs": [
    {
     "name": "stdout",
     "output_type": "stream",
     "text": [
      "Accuracy:  91.68559745570195 %\n"
     ]
    }
   ],
   "source": [
    "# Task 11: Test the classifier\n",
    "prediction = classifier.predict(feature_test)\n",
    "score = accuracy_score(testing_y, prediction)\n",
    "\n",
    "print(\"Accuracy: \", score*100, \"%\")"
   ]
  },
  {
   "cell_type": "code",
   "execution_count": 48,
   "metadata": {},
   "outputs": [
    {
     "data": {
      "text/html": [
       "<div>\n",
       "<style scoped>\n",
       "    .dataframe tbody tr th:only-of-type {\n",
       "        vertical-align: middle;\n",
       "    }\n",
       "\n",
       "    .dataframe tbody tr th {\n",
       "        vertical-align: top;\n",
       "    }\n",
       "\n",
       "    .dataframe thead th {\n",
       "        text-align: right;\n",
       "    }\n",
       "</style>\n",
       "<table border=\"1\" class=\"dataframe\">\n",
       "  <thead>\n",
       "    <tr style=\"text-align: right;\">\n",
       "      <th></th>\n",
       "      <th>Unnamed: 0</th>\n",
       "      <th>Unnamed: 1</th>\n",
       "      <th>title</th>\n",
       "      <th>text</th>\n",
       "      <th>label</th>\n",
       "    </tr>\n",
       "  </thead>\n",
       "  <tbody>\n",
       "    <tr>\n",
       "      <th>0</th>\n",
       "      <td>914</td>\n",
       "      <td>7014</td>\n",
       "      <td>Trumps Hollywood Walk of Fame star Destroyed w...</td>\n",
       "      <td>Trump's Hollywood Walk of Fame star Destroyed ...</td>\n",
       "      <td>FAKE</td>\n",
       "    </tr>\n",
       "    <tr>\n",
       "      <th>1</th>\n",
       "      <td>4058</td>\n",
       "      <td>6440</td>\n",
       "      <td>Corporate Army smashes Dakota barbarians near ...</td>\n",
       "      <td>Corporate Army smashes Dakota barbarians near ...</td>\n",
       "      <td>FAKE</td>\n",
       "    </tr>\n",
       "    <tr>\n",
       "      <th>2</th>\n",
       "      <td>4982</td>\n",
       "      <td>6125</td>\n",
       "      <td>German Panzers to Rumble Once More Along Russi...</td>\n",
       "      <td>Citizen journalism with a punch German Panzers...</td>\n",
       "      <td>FAKE</td>\n",
       "    </tr>\n",
       "    <tr>\n",
       "      <th>3</th>\n",
       "      <td>800</td>\n",
       "      <td>8389</td>\n",
       "      <td>Contaminated Food from China Now Entering the ...</td>\n",
       "      <td>Contaminated Food from China Now Entering the ...</td>\n",
       "      <td>FAKE</td>\n",
       "    </tr>\n",
       "    <tr>\n",
       "      <th>4</th>\n",
       "      <td>4871</td>\n",
       "      <td>976</td>\n",
       "      <td>Cruz likely to block Trump on a second ballot ...</td>\n",
       "      <td>Republican presidential candidate Ted Cruz is ...</td>\n",
       "      <td>REAL</td>\n",
       "    </tr>\n",
       "  </tbody>\n",
       "</table>\n",
       "</div>"
      ],
      "text/plain": [
       "   Unnamed: 0  Unnamed: 1                                              title  \\\n",
       "0         914        7014  Trumps Hollywood Walk of Fame star Destroyed w...   \n",
       "1        4058        6440  Corporate Army smashes Dakota barbarians near ...   \n",
       "2        4982        6125  German Panzers to Rumble Once More Along Russi...   \n",
       "3         800        8389  Contaminated Food from China Now Entering the ...   \n",
       "4        4871         976  Cruz likely to block Trump on a second ballot ...   \n",
       "\n",
       "                                                text label  \n",
       "0  Trump's Hollywood Walk of Fame star Destroyed ...  FAKE  \n",
       "1  Corporate Army smashes Dakota barbarians near ...  FAKE  \n",
       "2  Citizen journalism with a punch German Panzers...  FAKE  \n",
       "3  Contaminated Food from China Now Entering the ...  FAKE  \n",
       "4  Republican presidential candidate Ted Cruz is ...  REAL  "
      ]
     },
     "execution_count": 48,
     "metadata": {},
     "output_type": "execute_result"
    }
   ],
   "source": [
    "# Task 12: Load the test data\n",
    "test_data = pd.read_csv(\"D:/Darshan/test_data.csv\")\n",
    "test_labels = test_data.label\n",
    "test_data.head()"
   ]
  },
  {
   "cell_type": "code",
   "execution_count": 49,
   "metadata": {},
   "outputs": [],
   "source": [
    "# Task 13: Select Features and Get Predictions\n",
    "test_data_feature = count_vectorizer.transform(test_data['text'])\n",
    "prediction = classifier.predict(test_data_feature)"
   ]
  },
  {
   "cell_type": "code",
   "execution_count": 50,
   "metadata": {},
   "outputs": [
    {
     "name": "stdout",
     "output_type": "stream",
     "text": [
      "FAKE FAKE\n",
      "FAKE FAKE\n",
      "FAKE FAKE\n",
      "FAKE FAKE\n",
      "REAL REAL\n",
      "FAKE FAKE\n",
      "REAL REAL\n",
      "FAKE FAKE\n",
      "FAKE FAKE\n",
      "FAKE FAKE\n",
      "FAKE FAKE\n",
      "REAL REAL\n",
      "FAKE FAKE\n",
      "REAL REAL\n",
      "FAKE FAKE\n",
      "REAL REAL\n",
      "REAL REAL\n",
      "FAKE FAKE\n",
      "REAL REAL\n",
      "FAKE FAKE\n",
      "Accuracy:  100.0 %\n"
     ]
    }
   ],
   "source": [
    "# Task 14: Evaluate the Predictions\n",
    "for i in range(len(test_labels)):\n",
    "    print(test_labels[i], prediction[i])\n",
    "    \n",
    "score = accuracy_score(test_labels, prediction)\n",
    "print(\"Accuracy: \", score*100, \"%\")"
   ]
  },
  {
   "cell_type": "code",
   "execution_count": null,
   "metadata": {},
   "outputs": [],
   "source": []
  }
 ],
 "metadata": {
  "kernelspec": {
   "display_name": "Python 3 (ipykernel)",
   "language": "python",
   "name": "python3"
  },
  "language_info": {
   "codemirror_mode": {
    "name": "ipython",
    "version": 3
   },
   "file_extension": ".py",
   "mimetype": "text/x-python",
   "name": "python",
   "nbconvert_exporter": "python",
   "pygments_lexer": "ipython3",
   "version": "3.9.12"
  }
 },
 "nbformat": 4,
 "nbformat_minor": 2
}
